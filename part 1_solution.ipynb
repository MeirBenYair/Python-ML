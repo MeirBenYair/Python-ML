{
 "cells": [
  {
   "cell_type": "markdown",
   "id": "eccb705f",
   "metadata": {},
   "source": [
    "# Return Data \n"
   ]
  },
  {
   "cell_type": "code",
   "execution_count": 3,
   "id": "02f9ce01",
   "metadata": {},
   "outputs": [
    {
     "data": {
      "text/html": [
       "<div>\n",
       "<style scoped>\n",
       "    .dataframe tbody tr th:only-of-type {\n",
       "        vertical-align: middle;\n",
       "    }\n",
       "\n",
       "    .dataframe tbody tr th {\n",
       "        vertical-align: top;\n",
       "    }\n",
       "\n",
       "    .dataframe thead th {\n",
       "        text-align: right;\n",
       "    }\n",
       "</style>\n",
       "<table border=\"1\" class=\"dataframe\">\n",
       "  <thead>\n",
       "    <tr style=\"text-align: right;\">\n",
       "      <th></th>\n",
       "      <th>time_of_purchase</th>\n",
       "      <th>club_membership</th>\n",
       "      <th>checkout_type</th>\n",
       "      <th>payment_method</th>\n",
       "      <th>product_code</th>\n",
       "      <th>department</th>\n",
       "      <th>items_in_purchase</th>\n",
       "      <th>cost</th>\n",
       "      <th>cashier</th>\n",
       "      <th>return</th>\n",
       "    </tr>\n",
       "  </thead>\n",
       "  <tbody>\n",
       "    <tr>\n",
       "      <th>0</th>\n",
       "      <td>21062021--10:51</td>\n",
       "      <td>pos</td>\n",
       "      <td>regular</td>\n",
       "      <td>3210slv_585</td>\n",
       "      <td>NIK3_dscnt_3906786</td>\n",
       "      <td>grocery</td>\n",
       "      <td>10</td>\n",
       "      <td>25.00</td>\n",
       "      <td>45</td>\n",
       "      <td>0</td>\n",
       "    </tr>\n",
       "    <tr>\n",
       "      <th>1</th>\n",
       "      <td>21062021--11:04</td>\n",
       "      <td>pos</td>\n",
       "      <td>regular</td>\n",
       "      <td>1680slv_162</td>\n",
       "      <td>NIK3_dscnt_3710510</td>\n",
       "      <td>fashion</td>\n",
       "      <td>126</td>\n",
       "      <td>291.60</td>\n",
       "      <td>48</td>\n",
       "      <td>1</td>\n",
       "    </tr>\n",
       "    <tr>\n",
       "      <th>2</th>\n",
       "      <td>21062021--11:16</td>\n",
       "      <td>neg</td>\n",
       "      <td>regular</td>\n",
       "      <td>5630gld_656</td>\n",
       "      <td>CONV_resp_2019589</td>\n",
       "      <td>ready food</td>\n",
       "      <td>13</td>\n",
       "      <td>1.28</td>\n",
       "      <td>69</td>\n",
       "      <td>0</td>\n",
       "    </tr>\n",
       "    <tr>\n",
       "      <th>3</th>\n",
       "      <td>21062021--11:16</td>\n",
       "      <td>neg</td>\n",
       "      <td>regular</td>\n",
       "      <td>1680std_266</td>\n",
       "      <td>CONV_resp_4862207</td>\n",
       "      <td>small appliances</td>\n",
       "      <td>9</td>\n",
       "      <td>13.93</td>\n",
       "      <td>31</td>\n",
       "      <td>0</td>\n",
       "    </tr>\n",
       "    <tr>\n",
       "      <th>4</th>\n",
       "      <td>21062021--11:17</td>\n",
       "      <td>neg</td>\n",
       "      <td>regular</td>\n",
       "      <td>4580std_304</td>\n",
       "      <td>CONV_ssnl_2433974</td>\n",
       "      <td>hobby</td>\n",
       "      <td>14</td>\n",
       "      <td>11.33</td>\n",
       "      <td>51</td>\n",
       "      <td>0</td>\n",
       "    </tr>\n",
       "  </tbody>\n",
       "</table>\n",
       "</div>"
      ],
      "text/plain": [
       "  time_of_purchase club_membership checkout_type payment_method  \\\n",
       "0  21062021--10:51             pos       regular    3210slv_585   \n",
       "1  21062021--11:04             pos       regular    1680slv_162   \n",
       "2  21062021--11:16             neg       regular    5630gld_656   \n",
       "3  21062021--11:16             neg       regular    1680std_266   \n",
       "4  21062021--11:17             neg       regular    4580std_304   \n",
       "\n",
       "         product_code        department  items_in_purchase    cost  cashier  \\\n",
       "0  NIK3_dscnt_3906786           grocery                 10   25.00       45   \n",
       "1  NIK3_dscnt_3710510           fashion                126  291.60       48   \n",
       "2   CONV_resp_2019589        ready food                 13    1.28       69   \n",
       "3   CONV_resp_4862207  small appliances                  9   13.93       31   \n",
       "4   CONV_ssnl_2433974             hobby                 14   11.33       51   \n",
       "\n",
       "   return  \n",
       "0       0  \n",
       "1       1  \n",
       "2       0  \n",
       "3       0  \n",
       "4       0  "
      ]
     },
     "execution_count": 3,
     "metadata": {},
     "output_type": "execute_result"
    }
   ],
   "source": [
    "import pandas as pd\n",
    "df=pd.read_csv(\"returns_data.csv\")\n",
    "df.head()"
   ]
  },
  {
   "cell_type": "markdown",
   "id": "ee85cddf",
   "metadata": {},
   "source": [
    "# 1. What fraction of items end up being returned?\n"
   ]
  },
  {
   "cell_type": "code",
   "execution_count": 4,
   "id": "12f6a26c",
   "metadata": {},
   "outputs": [
    {
     "data": {
      "text/plain": [
       "0    4812\n",
       "1     688\n",
       "Name: return, dtype: int64"
      ]
     },
     "execution_count": 4,
     "metadata": {},
     "output_type": "execute_result"
    }
   ],
   "source": [
    "df['return'].value_counts()"
   ]
  },
  {
   "cell_type": "markdown",
   "id": "0aca6ce2",
   "metadata": {},
   "source": [
    "# 2. What fraction of items costing 1000 or more end up being returned?"
   ]
  },
  {
   "cell_type": "code",
   "execution_count": 20,
   "id": "625a8bf4",
   "metadata": {},
   "outputs": [
    {
     "data": {
      "text/plain": [
       "26"
      ]
     },
     "execution_count": 20,
     "metadata": {},
     "output_type": "execute_result"
    }
   ],
   "source": [
    "df[(df[\"cost\"] > 1000) & (df[\"return\"] ==1)].count()['return']"
   ]
  },
  {
   "cell_type": "markdown",
   "id": "73d74f20",
   "metadata": {},
   "source": [
    "# 3. Which of the following departments has the highest ratio of returns?\n",
    "A Books B. Fashion C. Grocery D. Small appliances E. Outdoor furniture F. Toys"
   ]
  },
  {
   "cell_type": "code",
   "execution_count": 21,
   "id": "95d1fd9f",
   "metadata": {},
   "outputs": [
    {
     "data": {
      "text/html": [
       "<div>\n",
       "<style scoped>\n",
       "    .dataframe tbody tr th:only-of-type {\n",
       "        vertical-align: middle;\n",
       "    }\n",
       "\n",
       "    .dataframe tbody tr th {\n",
       "        vertical-align: top;\n",
       "    }\n",
       "\n",
       "    .dataframe thead th {\n",
       "        text-align: right;\n",
       "    }\n",
       "</style>\n",
       "<table border=\"1\" class=\"dataframe\">\n",
       "  <thead>\n",
       "    <tr style=\"text-align: right;\">\n",
       "      <th></th>\n",
       "      <th>ratio</th>\n",
       "      <th>return</th>\n",
       "    </tr>\n",
       "    <tr>\n",
       "      <th>department</th>\n",
       "      <th></th>\n",
       "      <th></th>\n",
       "    </tr>\n",
       "  </thead>\n",
       "  <tbody>\n",
       "    <tr>\n",
       "      <th>fashion</th>\n",
       "      <td>7.690909</td>\n",
       "      <td>423</td>\n",
       "    </tr>\n",
       "    <tr>\n",
       "      <th>grocery</th>\n",
       "      <td>0.527273</td>\n",
       "      <td>29</td>\n",
       "    </tr>\n",
       "    <tr>\n",
       "      <th>small appliances</th>\n",
       "      <td>0.454545</td>\n",
       "      <td>25</td>\n",
       "    </tr>\n",
       "    <tr>\n",
       "      <th>toys</th>\n",
       "      <td>0.290909</td>\n",
       "      <td>16</td>\n",
       "    </tr>\n",
       "    <tr>\n",
       "      <th>books</th>\n",
       "      <td>0.127273</td>\n",
       "      <td>7</td>\n",
       "    </tr>\n",
       "    <tr>\n",
       "      <th>outdoor furniture</th>\n",
       "      <td>0.036364</td>\n",
       "      <td>2</td>\n",
       "    </tr>\n",
       "  </tbody>\n",
       "</table>\n",
       "</div>"
      ],
      "text/plain": [
       "                      ratio  return\n",
       "department                         \n",
       "fashion            7.690909     423\n",
       "grocery            0.527273      29\n",
       "small appliances   0.454545      25\n",
       "toys               0.290909      16\n",
       "books              0.127273       7\n",
       "outdoor furniture  0.036364       2"
      ]
     },
     "execution_count": 21,
     "metadata": {},
     "output_type": "execute_result"
    }
   ],
   "source": [
    "new_df=df.loc[df['department'].str.contains('books|fashion|grocery|small appliances|outdoor furniture|toys' ,regex=True)]\n",
    "\n",
    "c = new_df.groupby('department').sum()\n",
    "\n",
    "c = c.sort_values(['return'], ascending=False)\n",
    "c['ratio']=c['return']/(df['return'].count())*100\n",
    "c[['ratio','return']]"
   ]
  },
  {
   "cell_type": "markdown",
   "id": "74e87349",
   "metadata": {},
   "source": [
    "# 4. Which of the following departments has the highest number of returns?\n",
    "A Books B. Fashion C. Grocery D. Small appliances E. Outdoor furniture F. Toys"
   ]
  },
  {
   "cell_type": "code",
   "execution_count": 7,
   "id": "213f28b7",
   "metadata": {},
   "outputs": [
    {
     "data": {
      "text/plain": [
       "department\n",
       "fashion              423\n",
       "grocery               29\n",
       "small appliances      25\n",
       "toys                  16\n",
       "books                  7\n",
       "outdoor furniture      2\n",
       "Name: return, dtype: int64"
      ]
     },
     "execution_count": 7,
     "metadata": {},
     "output_type": "execute_result"
    }
   ],
   "source": [
    "new_df=df.loc[df['department'].str.contains('books|fashion|grocery|small appliances|outdoor furniture|toys' ,regex=True)]\n",
    "\n",
    "c = new_df.groupby('department').sum()\n",
    "\n",
    "c = c.sort_values(['return'], ascending=False)\n",
    "c['return']"
   ]
  },
  {
   "cell_type": "code",
   "execution_count": 16,
   "id": "6e1182a5",
   "metadata": {},
   "outputs": [
    {
     "data": {
      "text/plain": [
       "5500"
      ]
     },
     "execution_count": 16,
     "metadata": {},
     "output_type": "execute_result"
    }
   ],
   "source": [
    "df['return'].count()"
   ]
  },
  {
   "cell_type": "code",
   "execution_count": null,
   "id": "abf0b15e",
   "metadata": {},
   "outputs": [],
   "source": []
  }
 ],
 "metadata": {
  "kernelspec": {
   "display_name": "Python 3 (ipykernel)",
   "language": "python",
   "name": "python3"
  },
  "language_info": {
   "codemirror_mode": {
    "name": "ipython",
    "version": 3
   },
   "file_extension": ".py",
   "mimetype": "text/x-python",
   "name": "python",
   "nbconvert_exporter": "python",
   "pygments_lexer": "ipython3",
   "version": "3.9.6"
  }
 },
 "nbformat": 4,
 "nbformat_minor": 5
}
